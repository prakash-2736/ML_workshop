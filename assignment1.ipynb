{
  "nbformat": 4,
  "nbformat_minor": 0,
  "metadata": {
    "colab": {
      "provenance": [],
      "authorship_tag": "ABX9TyNQrDuOkLilPIKFNuRuCaSc",
      "include_colab_link": true
    },
    "kernelspec": {
      "name": "python3",
      "display_name": "Python 3"
    },
    "language_info": {
      "name": "python"
    }
  },
  "cells": [
    {
      "cell_type": "markdown",
      "metadata": {
        "id": "view-in-github",
        "colab_type": "text"
      },
      "source": [
        "<a href=\"https://colab.research.google.com/github/prakash-2736/ML_workshop/blob/main/assignment1.ipynb\" target=\"_parent\"><img src=\"https://colab.research.google.com/assets/colab-badge.svg\" alt=\"Open In Colab\"/></a>"
      ]
    },
    {
      "cell_type": "code",
      "execution_count": null,
      "metadata": {
        "colab": {
          "base_uri": "https://localhost:8080/"
        },
        "id": "lGi1KMnvyj5E",
        "outputId": "15de89c1-c10a-4741-a461-96bf883b3d30"
      },
      "outputs": [
        {
          "output_type": "stream",
          "name": "stdout",
          "text": [
            "Addition: [2 4 6]\n",
            "Subtraction: [0 0 0]\n",
            "Multiplication: [1 4 9]\n",
            "Division: [1. 1. 1.]\n"
          ]
        }
      ],
      "source": [
        "import numpy as np\n",
        "#1. Perform arithmetic operations on NumPy arrays.\n",
        "\n",
        "a = np.array([1, 2, 3])\n",
        "b = np.array([1, 2, 3])\n",
        "\n",
        "\n",
        "add = a + b\n",
        "sub = a - b\n",
        "mul = a * b\n",
        "div = a / b\n",
        "\n",
        "print(\"Addition:\", add)\n",
        "print(\"Subtraction:\", sub)\n",
        "print(\"Multiplication:\", mul)\n",
        "print(\"Division:\", div)\n"
      ]
    },
    {
      "cell_type": "code",
      "source": [
        "#2. Write a script to compute the mean and standard deviation of a NumPy array\n",
        "data = np.array([10, 20, 30, 40, 50])\n",
        "\n",
        "\n",
        "mean = np.mean(data)\n",
        "std_dev = np.std(data)\n",
        "\n",
        "print(\"Mean:\", mean)\n",
        "print(\"Standard Deviation:\", std_dev)\n"
      ],
      "metadata": {
        "colab": {
          "base_uri": "https://localhost:8080/"
        },
        "id": "wYQivN6rzBmk",
        "outputId": "9edbd3c7-d898-463b-925c-aeae06473ebd"
      },
      "execution_count": null,
      "outputs": [
        {
          "output_type": "stream",
          "name": "stdout",
          "text": [
            "Mean: 30.0\n",
            "Standard Deviation: 14.142135623730951\n"
          ]
        }
      ]
    },
    {
      "cell_type": "code",
      "source": [
        "#3. Create a NumPy array of integers from 10 to 50 with a step size of 5.\n",
        "array = np.arange(10, 51, 5)\n",
        "print(\"Array:\", array)"
      ],
      "metadata": {
        "colab": {
          "base_uri": "https://localhost:8080/"
        },
        "id": "Kk3nNCUkzPy-",
        "outputId": "5f71a526-ba9f-48e2-f8b5-42671578b900"
      },
      "execution_count": null,
      "outputs": [
        {
          "output_type": "stream",
          "name": "stdout",
          "text": [
            "Array: [10 15 20 25 30 35 40 45 50]\n"
          ]
        }
      ]
    },
    {
      "cell_type": "code",
      "source": [
        "#4. Reshape the array into a 2x4 matrix.\n",
        "array = array[:8]\n",
        "reshaped_arr = array.reshape(2, 4)\n",
        "print(\"Reshaped Array:\\n\", reshaped_arr)"
      ],
      "metadata": {
        "colab": {
          "base_uri": "https://localhost:8080/"
        },
        "id": "OpRBLUfYzXTA",
        "outputId": "cf1d9371-f299-44ba-a454-027ed385da5f"
      },
      "execution_count": null,
      "outputs": [
        {
          "output_type": "stream",
          "name": "stdout",
          "text": [
            "Reshaped Array:\n",
            " [[10 15 20 25]\n",
            " [30 35 40 45]]\n"
          ]
        }
      ]
    },
    {
      "cell_type": "code",
      "source": [
        "#5. Given the array arr = np.array([[1, 2, 3], [4, 5, 6], [7, 8, 9]]):\n",
        "# • Extract the sub-matrix containing the last two rows and first two columns.\n",
        "# • Replace all elements greater than 4 with 0.\n",
        "array = np.array([[1, 2, 3], [4, 5, 6], [7, 8, 9]])\n",
        "\n",
        "sub_matrix = array[1:, :2]\n",
        "\n",
        "array[array > 4] = 0\n",
        "\n",
        "print(\"Sub matrix:\\n\", sub_matrix)\n",
        "print(\"Modified Array:\\n\", array)"
      ],
      "metadata": {
        "colab": {
          "base_uri": "https://localhost:8080/"
        },
        "id": "8f8V7FmS0F9o",
        "outputId": "fbd49e3b-0f14-4de8-fca5-1f79703a6842"
      },
      "execution_count": null,
      "outputs": [
        {
          "output_type": "stream",
          "name": "stdout",
          "text": [
            "Sub matrix:\n",
            " [[4 0]\n",
            " [0 0]]\n",
            "Modified Array:\n",
            " [[1 2 3]\n",
            " [4 0 0]\n",
            " [0 0 0]]\n"
          ]
        }
      ]
    },
    {
      "cell_type": "code",
      "source": [
        "# 6. Create two 1D arrays:\n",
        "# • a = np.array([1, 2, 3])\n",
        "# • b = np.array([4, 5, 6])\n",
        "# • Perform element-wise addition, multiplication, and division.\n",
        "\n",
        "\n",
        "a = np.array([1, 2, 3])\n",
        "b = np.array([1, 2, 3])\n",
        "\n",
        "\n",
        "add = a + b\n",
        "\n",
        "mul = a * b\n",
        "div = a / b\n",
        "\n",
        "print(\"Addition:\", add)\n",
        "print(\"Multiplication:\", mul)\n",
        "print(\"Division:\", div)"
      ],
      "metadata": {
        "colab": {
          "base_uri": "https://localhost:8080/"
        },
        "id": "OD21yutA0eJ3",
        "outputId": "02cdc6eb-f341-4f00-b2a4-a992e3c061aa"
      },
      "execution_count": null,
      "outputs": [
        {
          "output_type": "stream",
          "name": "stdout",
          "text": [
            "Addition: [2 4 6]\n",
            "Multiplication: [1 4 9]\n",
            "Division: [1. 1. 1.]\n"
          ]
        }
      ]
    },
    {
      "cell_type": "code",
      "source": [
        "# 7. Create a random NumPy array of size (4, 4). Compute:\n",
        "# • Mean of each column.\n",
        "# • Maximum value of the entire array.\n",
        "# • Sum of all elements.\n",
        "\n",
        "\n",
        "ran_array = np.random.rand(4, 4) * 100\n",
        "# ran_array = np.random.randint(1, 101, (4, 4))\n",
        "print(ran_array)\n",
        "col_mean = np.mean(ran_array, axis=0)\n",
        "max_value = np.max(ran_array)\n",
        "total_sum = np.sum(ran_array)\n",
        "\n",
        "print(\"Column Means:\", col_mean)\n",
        "print(\"Maximum Value:\", max_value)\n",
        "print(\"Sum of All Elements:\", total_sum)\n"
      ],
      "metadata": {
        "colab": {
          "base_uri": "https://localhost:8080/"
        },
        "id": "OH982fAB0m34",
        "outputId": "8aba0c83-d827-48f1-994d-4646f0889792"
      },
      "execution_count": null,
      "outputs": [
        {
          "output_type": "stream",
          "name": "stdout",
          "text": [
            "[[77.33121037 65.16409631 70.99070485 97.92722396]\n",
            " [94.68838346 13.82890827 60.92435102 43.40895352]\n",
            " [92.14099669 10.39646805 44.12972306 70.00984776]\n",
            " [79.4026046  86.50642729 20.40823379 35.21686806]]\n",
            "Column Means: [85.89079878 43.97397498 49.11325318 61.64072332]\n",
            "Maximum Value: 97.92722396196089\n",
            "Sum of All Elements: 962.4750010787598\n"
          ]
        }
      ]
    },
    {
      "cell_type": "code",
      "source": [
        "# 8. Given the array arr = np.array([1, 2, 3, 4]), add 10 to each element and multiply\n",
        "# the result by 2.\n",
        "\n",
        "\n",
        "\n",
        "array = np.array([[1, 2, 3, 4], [5,6,7,8]])\n",
        "\n",
        "result_array = (array + 10) * 2\n",
        "print(\"Modified Array:\\n\", result_array)"
      ],
      "metadata": {
        "colab": {
          "base_uri": "https://localhost:8080/"
        },
        "id": "1nOQhhC82Fay",
        "outputId": "3811d5a7-ac22-41c7-fe78-75402c35afcb"
      },
      "execution_count": null,
      "outputs": [
        {
          "output_type": "stream",
          "name": "stdout",
          "text": [
            "Modified Array:\n",
            " [[22 24 26 28]\n",
            " [30 32 34 36]]\n"
          ]
        }
      ]
    },
    {
      "cell_type": "code",
      "source": [
        "# 9. Perform advanced slicing and indexing on a 3D array.\n",
        "# Create a 3D NumPy array arr of shape (3, 4, 5) with random integers ranging from\n",
        "# 1 to 100. Perform the following:\n",
        "# • Extract the second \"layer\" (i.e., the second 2D array) in the first dimension.\n",
        "# • Extract the first two rows and the last three columns from each \"layer.\"\n",
        "# • Replace all elements divisible by 3 with -1.\n",
        "\n",
        "array = np.random.randint(1, 101, (3, 4, 5))\n",
        "# print(arr)\n",
        "second_layer = array[1]\n",
        "\n",
        "sub_matrix = array[:, :2, -3:]\n",
        "\n",
        "array[array % 3 == 0] = -1\n",
        "\n",
        "print(\"Second Layer:\\n\", second_layer)\n",
        "print(\"Sub-matrix:\\n\", sub_matrix)\n",
        "print(\"Modified Array:\\n\", array)"
      ],
      "metadata": {
        "colab": {
          "base_uri": "https://localhost:8080/"
        },
        "collapsed": true,
        "id": "QbMz2rYY2a8m",
        "outputId": "fcc214a5-d9bf-4b4f-e554-5071a28c76d2"
      },
      "execution_count": null,
      "outputs": [
        {
          "output_type": "stream",
          "name": "stdout",
          "text": [
            "Second Layer:\n",
            " [[25 31 -1 -1 38]\n",
            " [68 38 20 -1 14]\n",
            " [-1 47 -1 68 94]\n",
            " [49  8 -1 -1 83]]\n",
            "Sub-matrix:\n",
            " [[[31 28 -1]\n",
            "  [13 -1 97]]\n",
            "\n",
            " [[-1 -1 38]\n",
            "  [20 -1 14]]\n",
            "\n",
            " [[56 92 -1]\n",
            "  [58 -1 -1]]]\n",
            "Modified Array:\n",
            " [[[20 38 31 28 -1]\n",
            "  [-1 -1 13 -1 97]\n",
            "  [-1 68 52  8 94]\n",
            "  [-1 -1 53 -1 61]]\n",
            "\n",
            " [[25 31 -1 -1 38]\n",
            "  [68 38 20 -1 14]\n",
            "  [-1 47 -1 68 94]\n",
            "  [49  8 -1 -1 83]]\n",
            "\n",
            " [[58 -1 56 92 -1]\n",
            "  [25 20 58 -1 -1]\n",
            "  [89 41 -1 94 -1]\n",
            "  [-1 28 61 43 79]]]\n"
          ]
        }
      ]
    },
    {
      "cell_type": "code",
      "source": [
        "# 10. Work with broadcasting and advanced operations in NumPy.\n",
        "#  Create a NumPy array arr of shape (3, 3) with random integers between\n",
        "#  1 and 20. Perform the following:\n",
        "# • Subtract the mean of each row from its respective elements (row-wise\n",
        "# normalization).\n",
        "# • Create a new array by squaring all the elements in arr.\n",
        "# • Find the indices of the top 3 maximum values in the entire array\n",
        "\n",
        "\n",
        "arr = np.random.randint(1, 21, (3, 3))\n",
        "\n",
        "row_means = np.mean(arr, axis=1, keepdims=True)\n",
        "normalized_arr = arr - row_means\n",
        "\n",
        "squared_arr = arr ** 2\n",
        "\n",
        "\n",
        "flattened_indices = np.argsort(arr.ravel())[-3:]\n",
        "# indices = np.unravel_index(flattened_indices, arr.shape)\n",
        "indices = [np.unravel_index(idx, arr.shape) for idx in flattened_indices]\n",
        "\n",
        "print(\"Original Array:\\n\", arr)\n",
        "print(\"Row-wise Normalized Array:\\n\", normalized_arr)\n",
        "print(\"Squared Array:\\n\", squared_arr)\n",
        "print(\"Indices of Top 3 Maximum Values:\", indices)\n"
      ],
      "metadata": {
        "colab": {
          "base_uri": "https://localhost:8080/"
        },
        "id": "p2I_9yCf3VcP",
        "outputId": "9526551a-cf4f-4524-db1d-db09849f0951"
      },
      "execution_count": null,
      "outputs": [
        {
          "output_type": "stream",
          "name": "stdout",
          "text": [
            "Original Array:\n",
            " [[10 17 17]\n",
            " [18  6  4]\n",
            " [17 19  8]]\n",
            "Row-wise Normalized Array:\n",
            " [[-4.66666667  2.33333333  2.33333333]\n",
            " [ 8.66666667 -3.33333333 -5.33333333]\n",
            " [ 2.33333333  4.33333333 -6.66666667]]\n",
            "Squared Array:\n",
            " [[100 289 289]\n",
            " [324  36  16]\n",
            " [289 361  64]]\n",
            "Indices of Top 3 Maximum Values: [(2, 0), (1, 0), (2, 1)]\n"
          ]
        }
      ]
    }
  ]
}